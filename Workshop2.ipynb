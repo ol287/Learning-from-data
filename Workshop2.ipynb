{
 "cells": [
  {
   "cell_type": "markdown",
   "id": "c37cecd6",
   "metadata": {},
   "source": [
    "## *Learning from Data - Workshop Session 3*\n",
    "# <br> <center> Data Preprocessing, Regression & Bias-variance Analysis</center>"
   ]
  },
  {
   "cell_type": "markdown",
   "id": "75611fd3",
   "metadata": {},
   "source": [
    "**Intended Learning Outcomes (ILOs)** for Workshop Session 3:\n",
    "Upon completion of this workshop session, you will be able to:\n",
    "+ Implement the data preprocessing actions (including data cleaning, data transformation, and data virtualisation) on real-world dataset, per the requirement of target data analytics task\n",
    "+ Develop the linear and polynomial regression models based on real-world dataset\n",
    "+ Apply the techniques of L1 regularisation and cross validation with a right bias-variance balance"
   ]
  },
  {
   "cell_type": "markdown",
   "id": "eb46d41b",
   "metadata": {},
   "source": [
    "**Dataset** for Advanced Analysis: [\"IMDB-top Netflix Programme Dataset\"](https://www.kaggle.com/datasets/bharatnatrayn/movies-dataset-for-feature-extracion-prediction/ \"IMDB-top Netflix Movies Dataset\") (click to download the dataset from Kaggle)\n",
    "<br> <br> The dataset is scrapped from IMDB about Netflix movies and tv shows.This dataset needs clever programming knowledge for feature extraction also building a Netflix programme recommendation system either other prediction models.\n",
    "<br> <br> **About the Dateset:**\n",
    "+ MOVIES: The name of movie or tv show\n",
    "+ YEAR: The year of movie or tv shows telecast for audience\n",
    "+ GENRE: The type of movie or tv shows\n",
    "+ RATING: The audience thought about movie or tv show given\n",
    "+ ONE-LINE: The short description about movie or tv show for audiences first impression\n",
    "+ STARS: The casting of art which is made talks between audience \n",
    "+ VOTES: The number of audience expressing their view\n",
    "+ RUNTIME: The duration for runing time of art\n",
    "+ GROSS: The total amount of money earned in worldwide"
   ]
  },
  {
   "cell_type": "markdown",
   "id": "d60adbe3",
   "metadata": {},
   "source": [
    "**Note:**\n",
    "+ Please run the code below in your Python programming environment. Running on a Jupyter notebook is **highly recommended**, with every few lines of code in a different cell within the notebook.\n",
    "+ Please select the practical tasks according to your leaning capacity. Feel free to try on the **optional** / **bonus** task, upon the completion of other practices."
   ]
  },
  {
   "cell_type": "markdown",
   "id": "b3f3d448",
   "metadata": {},
   "source": [
    "### Practical Task A: Review the Structure of Movie Dataset\n",
    "**1.**\tLoad the file `movies_dataset.csv` using the python `pandas` library:"
   ]
  },
  {
   "cell_type": "code",
   "execution_count": null,
   "id": "8f33335d",
   "metadata": {},
   "outputs": [],
   "source": []
  },
  {
   "cell_type": "markdown",
   "id": "b8f6e735",
   "metadata": {},
   "source": [
    "**2.** Review the dataset structure"
   ]
  },
  {
   "cell_type": "code",
   "execution_count": 1,
   "id": "504062c5",
   "metadata": {},
   "outputs": [],
   "source": [
    "# get shape of data that is (rows count,column count)\n"
   ]
  },
  {
   "cell_type": "code",
   "execution_count": 2,
   "id": "17f0da94",
   "metadata": {},
   "outputs": [],
   "source": [
    "# get 1st few rows from df\n"
   ]
  },
  {
   "cell_type": "code",
   "execution_count": 3,
   "id": "78205a2d",
   "metadata": {},
   "outputs": [],
   "source": [
    "# get the mata information of df\n"
   ]
  },
  {
   "cell_type": "code",
   "execution_count": 4,
   "id": "aef5deb4",
   "metadata": {},
   "outputs": [],
   "source": [
    "# count of null values column wise\n"
   ]
  },
  {
   "cell_type": "markdown",
   "id": "c57be3d3",
   "metadata": {},
   "source": [
    "**3.** **Data Cleaning** - Drop the duplicated data pieces"
   ]
  },
  {
   "cell_type": "code",
   "execution_count": 5,
   "id": "93955d1a",
   "metadata": {},
   "outputs": [],
   "source": [
    "# drop duplicated rows\n"
   ]
  },
  {
   "cell_type": "code",
   "execution_count": 6,
   "id": "98af5f37",
   "metadata": {},
   "outputs": [],
   "source": [
    "# drop duplicated rows with the same movie/tv show name\n"
   ]
  },
  {
   "cell_type": "markdown",
   "id": "33c7fcd8",
   "metadata": {},
   "source": [
    "**4. Data Cleaning** - Remove rows where YEAR, GENRE, RATING, VOTES, RUNTIME AND STARS is NaN"
   ]
  },
  {
   "cell_type": "code",
   "execution_count": 7,
   "id": "147648f5",
   "metadata": {},
   "outputs": [],
   "source": [
    "# get the NaN data items\n"
   ]
  },
  {
   "cell_type": "code",
   "execution_count": 8,
   "id": "a921a8ce",
   "metadata": {},
   "outputs": [],
   "source": [
    "# remove the NaN data items\n"
   ]
  },
  {
   "cell_type": "markdown",
   "id": "80e9539b",
   "metadata": {},
   "source": [
    "**5. Data Transformation** - Transform the features in columns that include '\\n'<br> &nbsp; &nbsp; <u>**Hint:**</u> Python String replace() Method"
   ]
  },
  {
   "cell_type": "code",
   "execution_count": null,
   "id": "a69776fc",
   "metadata": {},
   "outputs": [],
   "source": []
  },
  {
   "cell_type": "markdown",
   "id": "fe27c702",
   "metadata": {},
   "source": [
    "**6. Data Transformation** - Remove commas and convert the VOTES column to numeric"
   ]
  },
  {
   "cell_type": "code",
   "execution_count": null,
   "id": "656cb1a5",
   "metadata": {},
   "outputs": [],
   "source": []
  },
  {
   "cell_type": "markdown",
   "id": "94a99a57",
   "metadata": {},
   "source": [
    "**7. Data visulisation** - Analyse the GENRE column"
   ]
  },
  {
   "cell_type": "code",
   "execution_count": null,
   "id": "e83cd281",
   "metadata": {},
   "outputs": [],
   "source": []
  },
  {
   "cell_type": "code",
   "execution_count": 9,
   "id": "669ce3f2",
   "metadata": {},
   "outputs": [],
   "source": [
    "# count unique genres\n"
   ]
  },
  {
   "cell_type": "code",
   "execution_count": 10,
   "id": "97d9f5c4",
   "metadata": {},
   "outputs": [],
   "source": [
    "# create a bar chart\n"
   ]
  },
  {
   "cell_type": "code",
   "execution_count": 11,
   "id": "86a4131e",
   "metadata": {},
   "outputs": [],
   "source": [
    "# create a pie chart\n"
   ]
  },
  {
   "cell_type": "code",
   "execution_count": 12,
   "id": "c02f066c",
   "metadata": {},
   "outputs": [],
   "source": [
    "# create a pie chart for top-10 genres\n"
   ]
  },
  {
   "cell_type": "markdown",
   "id": "c826b04f",
   "metadata": {},
   "source": [
    "**8. Data Visualisation** - Analyse the correlation amongst the columns of RATING, RUNTIME, and VOTES"
   ]
  },
  {
   "cell_type": "code",
   "execution_count": 13,
   "id": "997ec479",
   "metadata": {},
   "outputs": [],
   "source": [
    "# get the correlation matrix of these three columns\n"
   ]
  },
  {
   "cell_type": "code",
   "execution_count": 14,
   "id": "958aa4c2",
   "metadata": {},
   "outputs": [],
   "source": [
    "# create a heatmap\n"
   ]
  },
  {
   "cell_type": "markdown",
   "id": "383e5aa7",
   "metadata": {},
   "source": [
    "**9. Data Transformation [ Optional ]** - Transform the STARS column into separate columns (i.e., DIRECTOR, STARS)"
   ]
  },
  {
   "cell_type": "code",
   "execution_count": 15,
   "id": "3f594f22",
   "metadata": {},
   "outputs": [],
   "source": [
    "# review the STARS column\n"
   ]
  },
  {
   "cell_type": "markdown",
   "id": "322f4ac1",
   "metadata": {},
   "source": [
    "<u>**Hint:**</u> re - Regular expression operations &nbsp; https://docs.python.org/3/library/re.html <br>"
   ]
  },
  {
   "cell_type": "code",
   "execution_count": 15,
   "id": "6147ba57",
   "metadata": {},
   "outputs": [],
   "source": [
    "#creating new columns\n"
   ]
  },
  {
   "cell_type": "code",
   "execution_count": null,
   "id": "2ccafb80",
   "metadata": {},
   "outputs": [],
   "source": [
    "# review the dataset after transformation\n"
   ]
  },
  {
   "cell_type": "markdown",
   "id": "a7262264",
   "metadata": {},
   "source": [
    "### Practical Task B: Analyse the Feature Correlation between RATING and GROSS"
   ]
  },
  {
   "cell_type": "markdown",
   "id": "ba00c45e",
   "metadata": {},
   "source": [
    "**1.** **Data Proprocessing** per the requirement of practical task B"
   ]
  },
  {
   "cell_type": "code",
   "execution_count": 16,
   "id": "4f6772c2",
   "metadata": {},
   "outputs": [],
   "source": [
    "# count of NaN values column wise\n"
   ]
  },
  {
   "cell_type": "code",
   "execution_count": 17,
   "id": "e269d02e",
   "metadata": {},
   "outputs": [],
   "source": [
    "# remove rows where GROSS is NaN\n"
   ]
  },
  {
   "cell_type": "code",
   "execution_count": 18,
   "id": "91ee09e9",
   "metadata": {},
   "outputs": [],
   "source": [
    "# transform the GROSS from string to float\n"
   ]
  },
  {
   "cell_type": "markdown",
   "id": "2039ecd4",
   "metadata": {},
   "source": [
    "**2.** Make a scatterplot for the RATING and the GROSS columns"
   ]
  },
  {
   "cell_type": "code",
   "execution_count": null,
   "id": "eef1bbcc",
   "metadata": {},
   "outputs": [],
   "source": []
  },
  {
   "cell_type": "markdown",
   "id": "cfba399a",
   "metadata": {},
   "source": [
    "**3.** Conduct linear regression for the RATING and the GROSS columns"
   ]
  },
  {
   "cell_type": "code",
   "execution_count": null,
   "id": "d2bd161e",
   "metadata": {
    "scrolled": true
   },
   "outputs": [],
   "source": []
  },
  {
   "cell_type": "markdown",
   "id": "784cc7e0",
   "metadata": {},
   "source": [
    "**4.** Conduct <u>polynomial regression (degree = 5)</u> for the RATING and the GROSS columns"
   ]
  },
  {
   "cell_type": "code",
   "execution_count": 19,
   "id": "adfa1178",
   "metadata": {},
   "outputs": [],
   "source": [
    "# Fitting Polynomial Regression to the dataset\n"
   ]
  },
  {
   "cell_type": "code",
   "execution_count": 20,
   "id": "e551a209",
   "metadata": {},
   "outputs": [],
   "source": [
    "# Visualising the Polynomial Regression results\n"
   ]
  },
  {
   "cell_type": "markdown",
   "id": "db0a94df",
   "metadata": {},
   "source": [
    "**5.** Conduct <u>polynomial regression (degree = 20)</u> for the RATING and the GROSS columns"
   ]
  },
  {
   "cell_type": "code",
   "execution_count": 21,
   "id": "cca6a27d",
   "metadata": {},
   "outputs": [],
   "source": [
    "# Fitting Polynomial Regression to the dataset\n"
   ]
  },
  {
   "cell_type": "code",
   "execution_count": 22,
   "id": "c11fa41f",
   "metadata": {},
   "outputs": [],
   "source": [
    "# Visualising the Polynomial Regression results\n"
   ]
  },
  {
   "cell_type": "markdown",
   "id": "6693187a",
   "metadata": {},
   "source": [
    "**6.** Conduct <u>ridge regression (degree = 20, alpha=1000000)</u> for the RATING and the GROSS columns"
   ]
  },
  {
   "cell_type": "code",
   "execution_count": 23,
   "id": "feea1b0a",
   "metadata": {},
   "outputs": [],
   "source": [
    "# Fitting Ridge Regression to the dataset\n"
   ]
  },
  {
   "cell_type": "code",
   "execution_count": 24,
   "id": "471735d5",
   "metadata": {},
   "outputs": [],
   "source": [
    "# Visualise the results\n"
   ]
  },
  {
   "cell_type": "markdown",
   "id": "f8063ff0",
   "metadata": {},
   "source": [
    "## Bonus Task [Challenging]"
   ]
  },
  {
   "cell_type": "markdown",
   "id": "61e99bea",
   "metadata": {},
   "source": [
    "**Reflection:** In the Practical Task B, the R2 score achieved by ridge regression is still relatively low. Can we improve the gross prediction performance by incorporating more correlation factors (such as, YEAR, GENRE, DIRECTOR, STARS)? Feel free to have a try!"
   ]
  },
  {
   "cell_type": "markdown",
   "id": "3d7ba135",
   "metadata": {},
   "source": [
    "**Inspiration:** <br>\n",
    "+ **Q1:** How to transform the data representation of GENRE, DIRECTOR, STARS (in string form)?\n",
    "+ **Q2:** How to build the regression model from multiple feature columns to target prediction column (i.e., GROSS)?\n",
    "+ **Q3:** How to visualise the regression model from multiple feature columns to target prediction column (i.e., GROSS)?"
   ]
  }
 ],
 "metadata": {
  "kernelspec": {
   "display_name": "Python 3 (ipykernel)",
   "language": "python",
   "name": "python3"
  },
  "language_info": {
   "codemirror_mode": {
    "name": "ipython",
    "version": 3
   },
   "file_extension": ".py",
   "mimetype": "text/x-python",
   "name": "python",
   "nbconvert_exporter": "python",
   "pygments_lexer": "ipython3",
   "version": "3.8.18"
  }
 },
 "nbformat": 4,
 "nbformat_minor": 5
}
