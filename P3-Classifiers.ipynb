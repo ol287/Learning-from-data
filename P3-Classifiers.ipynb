{
 "cells": [
  {
   "cell_type": "markdown",
   "id": "cc81bd05",
   "metadata": {},
   "source": [
    "\n",
    "# Part A - Logistic regression\n",
    "\n",
    "Here you will load a new dataset, and perform a similar analysis as before, but with a logistic regression rather than a linear regression. You should be able to use most of the code from the Week 2 Practical, except for a few changes.\n",
    "\n",
    "Please consult the documentation for the Logistic Regression function on sklearn:\n",
    "\n",
    "https://scikit-learn.org/stable/modules/generated/sklearn.linear_model.LogisticRegression.html\n",
    "\n",
    "__________________________"
   ]
  },
  {
   "cell_type": "markdown",
   "id": "b8efc40c",
   "metadata": {},
   "source": [
    "**0.** Run this cell to style your plots!\n",
    "\n",
    "For more: https://seaborn.pydata.org/tutorial/aesthetics.html"
   ]
  },
  {
   "cell_type": "code",
   "execution_count": null,
   "id": "155b62f8",
   "metadata": {},
   "outputs": [],
   "source": [
    "import seaborn as sns\n",
    "sns.set('talk')\n",
    "sns.set_style('ticks')"
   ]
  },
  {
   "cell_type": "markdown",
   "id": "40763949",
   "metadata": {},
   "source": [
    "**1.** Load the file `marks.csv` using the python `pandas` library."
   ]
  },
  {
   "cell_type": "code",
   "execution_count": null,
   "id": "862c42d6",
   "metadata": {},
   "outputs": [],
   "source": [
    "import pandas as pd\n",
    "\n",
    "df = pd.read_csv('marks.csv')\n",
    "\n",
    "# Display the first few rows of the dataframe to check if it loaded correctly\n",
    "print(df.head())"
   ]
  },
  {
   "cell_type": "markdown",
   "id": "df4c2767",
   "metadata": {},
   "source": [
    "**2.** Make a scatterplot with the `Module 1` and the `Admitted` columns."
   ]
  },
  {
   "cell_type": "code",
   "execution_count": null,
   "id": "050b9eab",
   "metadata": {},
   "outputs": [],
   "source": [
    "# Your answer here"
   ]
  },
  {
   "cell_type": "markdown",
   "id": "2c3cc804",
   "metadata": {},
   "source": [
    "**3.** Create two variables, `X` and `y`. For `y`, use the `Admitted` column. For `X`, use the `Module 1` and `Module 2` columns."
   ]
  },
  {
   "cell_type": "code",
   "execution_count": null,
   "id": "97f7acc7",
   "metadata": {},
   "outputs": [],
   "source": [
    "# Your answer here"
   ]
  },
  {
   "cell_type": "markdown",
   "id": "a6c26253",
   "metadata": {},
   "source": [
    "**4.** Import the `train_test_split` tool, and split the data into training/testing sets, 60% for training and 40% for testing, producing `X_train`, `X_test`, `y_train`, and `y_test`."
   ]
  },
  {
   "cell_type": "code",
   "execution_count": null,
   "id": "945121ce",
   "metadata": {},
   "outputs": [],
   "source": [
    "# Your answer here"
   ]
  },
  {
   "cell_type": "markdown",
   "id": "88378865",
   "metadata": {},
   "source": [
    "**5.** Import the `LogisticRegression` function, and fit the logistic regression to `X_train` and `y_train`."
   ]
  },
  {
   "cell_type": "code",
   "execution_count": null,
   "id": "b8c1e2ff",
   "metadata": {},
   "outputs": [],
   "source": [
    "# Your answer here"
   ]
  },
  {
   "cell_type": "markdown",
   "id": "120629fb",
   "metadata": {},
   "source": [
    "**6.** Predict the values for the `Admission` column based on `X_test`. Store that in a new variable `y_pred`."
   ]
  },
  {
   "cell_type": "code",
   "execution_count": null,
   "id": "2861cedf",
   "metadata": {},
   "outputs": [],
   "source": [
    "# Your answer here"
   ]
  },
  {
   "cell_type": "markdown",
   "id": "f2836076",
   "metadata": {},
   "source": [
    "**7.** Using the code below, plot the confusion matrix for this classifier."
   ]
  },
  {
   "cell_type": "code",
   "execution_count": null,
   "id": "b2f07256",
   "metadata": {},
   "outputs": [],
   "source": [
    "from sklearn.metrics import plot_confusion_matrix\n",
    "\n",
    "plot_confusion_matrix(logistic_regression, X_test, y_test, cmap='Reds')\n",
    "\n",
    "# The cmap variable refers to Colormap. Try changing ‘Reds’ to ‘Greens’ or ‘Blues’!"
   ]
  },
  {
   "cell_type": "markdown",
   "id": "fb07135c",
   "metadata": {},
   "source": [
    "**8.** Using the `.score()` method, print the mean accuracy of this classifier model."
   ]
  },
  {
   "cell_type": "code",
   "execution_count": null,
   "id": "1e663bd0",
   "metadata": {},
   "outputs": [],
   "source": [
    "# Your answer here"
   ]
  },
  {
   "cell_type": "markdown",
   "id": "8fcf5fe1",
   "metadata": {},
   "source": [
    "_______________"
   ]
  },
  {
   "cell_type": "markdown",
   "id": "1d2106bd",
   "metadata": {},
   "source": [
    "# Part B - Perceptron"
   ]
  },
  {
   "cell_type": "markdown",
   "id": "41977901",
   "metadata": {},
   "source": [
    "**1.** Import the numpy, pandas and matplotlib libraries:"
   ]
  },
  {
   "cell_type": "code",
   "execution_count": null,
   "id": "5105bd31",
   "metadata": {},
   "outputs": [],
   "source": [
    "import pandas as pd\n",
    "import numpy as np\n",
    "import matplotlib.pyplot as plt"
   ]
  },
  {
   "cell_type": "markdown",
   "id": "c7036d92",
   "metadata": {},
   "source": [
    "**2.** Create two circular “blobs” of datapoints:"
   ]
  },
  {
   "cell_type": "code",
   "execution_count": null,
   "id": "aa91c3a6",
   "metadata": {},
   "outputs": [],
   "source": [
    "from sklearn.datasets import make_blobs\n",
    "\n",
    "X, y = make_blobs(n_samples=1000, centers=2)"
   ]
  },
  {
   "cell_type": "markdown",
   "id": "621aeab4",
   "metadata": {},
   "source": [
    "**3.** Make a scatterplot for the generated dataset, `X`, and its class labels, `y`, using the `scatter()` function in matplotlib:\n",
    "https://matplotlib.org/stable/gallery/shapes_and_collections/scatter.html"
   ]
  },
  {
   "cell_type": "code",
   "execution_count": null,
   "id": "2439051a",
   "metadata": {},
   "outputs": [],
   "source": [
    "# Your answer here"
   ]
  },
  {
   "cell_type": "markdown",
   "id": "fb5b396e",
   "metadata": {},
   "source": [
    "**4.** Using the `train_test_split` tool, split the data into training/testing sets, 80% for training and 20% for testing, producing `X_train`, `X_test`, `y_train`, and `y_test`."
   ]
  },
  {
   "cell_type": "code",
   "execution_count": null,
   "id": "d6c48a6e",
   "metadata": {},
   "outputs": [],
   "source": [
    "# Your answer here"
   ]
  },
  {
   "cell_type": "markdown",
   "id": "db50eec0",
   "metadata": {},
   "source": [
    "**5.** Import the `Perceptron` function and create a Perceptron with the parameters:\n",
    "- 40 iterations (also known as epochs) over the data\n",
    "- a learning rate of 0.1\n",
    "\n",
    "For more detail, see the documentation:\n",
    "https://scikit-learn.org/stable/modules/generated/sklearn.linear_model.Perceptron.html"
   ]
  },
  {
   "cell_type": "code",
   "execution_count": null,
   "id": "4efafbf7",
   "metadata": {},
   "outputs": [],
   "source": [
    "from sklearn.linear_model import Perceptron\n",
    "\n",
    "perc = Perceptron(max_iter=40, eta0=0.1)"
   ]
  },
  {
   "cell_type": "markdown",
   "id": "fa38110b",
   "metadata": {},
   "source": [
    "**6.** Train the perceptron model by using the `.fit()` method on the training data ( `X_train` and `y_train` )."
   ]
  },
  {
   "cell_type": "code",
   "execution_count": null,
   "id": "17cbef1d",
   "metadata": {},
   "outputs": [],
   "source": [
    "# Your answer here"
   ]
  },
  {
   "cell_type": "markdown",
   "id": "38e4c0fa",
   "metadata": {},
   "source": [
    "**7.** Use the `plot_separation()` function below to plot the line separating both classes."
   ]
  },
  {
   "cell_type": "code",
   "execution_count": null,
   "id": "db95d3a7",
   "metadata": {},
   "outputs": [],
   "source": [
    "# You need to run this cell first to tell python to define the plot_separation() function.\n",
    "\n",
    "def plot_separation(X, y, perceptron):\n",
    "    \n",
    "    weights   = perceptron.coef_[0]\n",
    "    bias      = perceptron.intercept_\n",
    "    slope     = - weights[0]/weights[1]\n",
    "    intercept = -bias/weights[1]\n",
    "    \n",
    "    xmin = min(X[:,0])\n",
    "    xmax = max(X[:,0])\n",
    "    ymin = min(X[:,1])\n",
    "    ymax = max(X[:,1])\n",
    "\n",
    "    x_line = np.linspace(xmin, xmax)\n",
    "    y_line = slope * x_line + intercept\n",
    "    \n",
    "    fig = plt.figure(figsize=(8,6))\n",
    "    \n",
    "    plt.scatter(X[:,0], X[:,1], c=y, cmap='coolwarm', s=10)\n",
    "    plt.plot(x_line, y_line, c='green', lw=4)\n",
    "    \n",
    "    plt.title(\"Dataset and fitted decision line\")\n",
    "    plt.xlabel(\"First feature\")\n",
    "    plt.ylabel(\"Second feature\")\n",
    "    plt.xlim(xmin-1, xmax+1)\n",
    "    plt.ylim(ymin-1, ymax+1)\n",
    "    \n",
    "    plt.show()"
   ]
  },
  {
   "cell_type": "code",
   "execution_count": null,
   "id": "f660b40a",
   "metadata": {},
   "outputs": [],
   "source": [
    "# Above, we have defined the plot_separation function. Now we run it:\n",
    "\n",
    "plot_separation(X, y, perc)"
   ]
  },
  {
   "cell_type": "markdown",
   "id": "e2a42efd",
   "metadata": {},
   "source": [
    "**8.** Plot the confusion matrix for this classifier, using the `plot_confusion_matrix` tool in the same way as for the logistic regression."
   ]
  },
  {
   "cell_type": "code",
   "execution_count": null,
   "id": "f72cbae3",
   "metadata": {},
   "outputs": [],
   "source": [
    "# Your answer here"
   ]
  },
  {
   "cell_type": "markdown",
   "id": "1ae62fd9",
   "metadata": {},
   "source": [
    "**9.** Using the `.score()` method, print the mean accuracy of this classifier model."
   ]
  },
  {
   "cell_type": "code",
   "execution_count": null,
   "id": "7266635b",
   "metadata": {},
   "outputs": [],
   "source": [
    "# Your answer here"
   ]
  }
 ],
 "metadata": {
  "kernelspec": {
   "display_name": "Python 3",
   "language": "python",
   "name": "python3"
  },
  "language_info": {
   "codemirror_mode": {
    "name": "ipython",
    "version": 3
   },
   "file_extension": ".py",
   "mimetype": "text/x-python",
   "name": "python",
   "nbconvert_exporter": "python",
   "pygments_lexer": "ipython3",
   "version": "3.8.8"
  }
 },
 "nbformat": 4,
 "nbformat_minor": 5
}
