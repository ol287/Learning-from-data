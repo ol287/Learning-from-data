{
  "cells": [
    {
      "cell_type": "markdown",
      "metadata": {
        "id": "view-in-github",
        "colab_type": "text"
      },
      "source": [
        "<a href=\"https://colab.research.google.com/github/ol287/Learning-from-data/blob/main/week11.ipynb\" target=\"_parent\"><img src=\"https://colab.research.google.com/assets/colab-badge.svg\" alt=\"Open In Colab\"/></a>"
      ]
    },
    {
      "cell_type": "markdown",
      "source": [
        "#Demo"
      ],
      "metadata": {
        "id": "zesvGzSt9xj_"
      }
    },
    {
      "cell_type": "markdown",
      "source": [
        "The first part of this file is a demo - run all of this part (and look over the code) so you can go to the interpretability section where the exercises are"
      ],
      "metadata": {
        "id": "WJ4ol1JF9zfz"
      }
    },
    {
      "cell_type": "markdown",
      "source": [
        "#Imports"
      ],
      "metadata": {
        "id": "i03RwjQuovM7"
      }
    },
    {
      "cell_type": "markdown",
      "metadata": {
        "id": "QS7DDTiZGRTo"
      },
      "source": [
        "Import TensorFlow and anything else you may need"
      ]
    },
    {
      "cell_type": "code",
      "execution_count": 2,
      "metadata": {
        "id": "0trJmd6DjqBZ",
        "colab": {
          "base_uri": "https://localhost:8080/"
        },
        "outputId": "d4c768a7-b1ae-4a75-807c-99a4c2910fc1"
      },
      "outputs": [
        {
          "output_type": "stream",
          "name": "stdout",
          "text": [
            "TensorFlow version: 2.17.1\n"
          ]
        }
      ],
      "source": [
        "# Importing TensorFlow library, a popular framework for deep learning and machine learning\n",
        "import tensorflow as tf\n",
        "\n",
        "# Printing the TensorFlow version to ensure the library is correctly installed and to know which version is being used\n",
        "print(\"TensorFlow version:\", tf.__version__)\n",
        "\n",
        "# Importing the NumPy library, which is used for numerical computations and array manipulations\n",
        "import numpy as np\n",
        "\n",
        "# Importing Matplotlib for creating visualizations such as plots and graphs\n",
        "import matplotlib.pyplot as plt\n",
        "\n",
        "# Importing layers and components from TensorFlow's Keras module\n",
        "# These are the building blocks for constructing neural networks:\n",
        "from tensorflow.keras.layers import Dense, Flatten, Conv2D, Input, Dropout\n",
        "\n",
        "# Importing the ReLU (Rectified Linear Unit) activation function for use in neural network layers\n",
        "from tensorflow.keras.activations import relu\n",
        "\n",
        "# Importing the Model class, which provides a way to define and manage a neural network model\n",
        "from tensorflow.keras import Model\n"
      ]
    },
    {
      "cell_type": "markdown",
      "source": [
        "#Modelling"
      ],
      "metadata": {
        "id": "wEnV7yioFpty"
      }
    },
    {
      "cell_type": "markdown",
      "source": [
        "###MNIST"
      ],
      "metadata": {
        "id": "3_aiF-3_oxU0"
      }
    },
    {
      "cell_type": "markdown",
      "metadata": {
        "id": "7NAbSZiaoJ4z"
      },
      "source": [
        "Load and prepare the [MNIST dataset](http://yann.lecun.com/exdb/mnist/)."
      ]
    },
    {
      "cell_type": "code",
      "execution_count": 3,
      "metadata": {
        "id": "JqFRS6K07jJs",
        "colab": {
          "base_uri": "https://localhost:8080/"
        },
        "outputId": "885f060e-e6c3-456f-c585-4ce5eb413034"
      },
      "outputs": [
        {
          "output_type": "stream",
          "name": "stdout",
          "text": [
            "Downloading data from https://storage.googleapis.com/tensorflow/tf-keras-datasets/mnist.npz\n",
            "\u001b[1m11490434/11490434\u001b[0m \u001b[32m━━━━━━━━━━━━━━━━━━━━\u001b[0m\u001b[37m\u001b[0m \u001b[1m2s\u001b[0m 0us/step\n"
          ]
        }
      ],
      "source": [
        "# Importing the MNIST dataset from TensorFlow's built-in datasets\n",
        "mnist = tf.keras.datasets.mnist\n",
        "\n",
        "# Loading the MNIST dataset\n",
        "# The dataset consists of 60,000 training images and 10,000 testing images of handwritten digits (0-9)\n",
        "(x_train, y_train), (x_test, y_test) = mnist.load_data()\n",
        "\n",
        "# Normalizing the pixel values of the images to the range [0, 1]\n",
        "# This is done by dividing each pixel value by 255 (since pixel values range from 0 to 255)\n",
        "x_train, x_test = x_train / 255.0, x_test / 255.0\n",
        "\n",
        "# Defining a function to convert labels (digits) into one-hot encoded format\n",
        "# A one-hot encoding represents a number (0-9) as a vector with all zeros except a 1 at the index of the number\n",
        "def decimals_to_one_hots(decimal_numbers, num_classes):\n",
        "    \"\"\"\n",
        "    Converts a list of decimal labels into one-hot encoded vectors.\n",
        "\n",
        "    Args:\n",
        "    decimal_numbers (array-like): List of integers representing class labels.\n",
        "    num_classes (int): Total number of classes.\n",
        "\n",
        "    Returns:\n",
        "    np.array: Array of one-hot encoded vectors.\n",
        "    \"\"\"\n",
        "    # Initialize an empty list to store the one-hot encoded vectors\n",
        "    one_hots = []\n",
        "\n",
        "    # Loop through each decimal number (class label)\n",
        "    for decimal_number in decimal_numbers:\n",
        "        # Create a zero vector with length equal to the number of classes\n",
        "        one_hot = np.zeros(num_classes)\n",
        "        # Set the index corresponding to the class label to 1\n",
        "        one_hot[decimal_number] = 1\n",
        "        # Append the one-hot encoded vector to the list\n",
        "        one_hots.append(one_hot)\n",
        "\n",
        "    # Convert the list of one-hot vectors to a NumPy array and return it\n",
        "    return np.array(one_hots)\n",
        "\n",
        "# Adding a channels dimension to the image data\n",
        "# This is necessary because convolutional layers typically expect a 3D input: (height, width, channels)\n",
        "# MNIST images are grayscale, so we add a channel dimension of size 1\n",
        "x_train = x_train[..., tf.newaxis].astype(\"float32\")  # Convert training images to float32 format\n",
        "x_test = x_test[..., tf.newaxis].astype(\"float32\")    # Convert testing images to float32 format\n",
        "\n",
        "# (Optional) Uncomment this line if you want to add label noise for experimentation\n",
        "# y_train = add_label_noise(y_train, noise_level=0.25)\n",
        "\n",
        "# Converting the training and testing labels to one-hot encoded format\n",
        "# The labels are originally in decimal format (0-9)\n",
        "# This converts them into vectors of length 10 where only the index of the class is set to 1\n",
        "y_train = decimals_to_one_hots(y_train, 10)  # Convert training labels to one-hot encoding\n",
        "y_test = decimals_to_one_hots(y_test, 10)    # Convert testing labels to one-hot encoding\n"
      ]
    },
    {
      "cell_type": "markdown",
      "source": [
        "Visualise the dataset"
      ],
      "metadata": {
        "id": "DNMyGZ_69wMS"
      }
    },
    {
      "cell_type": "code",
      "source": [
        "# Create a 4x4 grid of subplots\n",
        "fig, axes = plt.subplots(4, 4, figsize=(10, 10))\n",
        "\n",
        "# Flatten the axes array for easier iteration\n",
        "axes = axes.flatten()\n",
        "\n",
        "# Iterate through the images and display them in the subplots\n",
        "for i in range(16):\n",
        "    # Assuming images are numpy arrays\n",
        "    axes[i].imshow(x_train[i], cmap = 'Greys')  # Use cmap='gray' for grayscale images\n",
        "    axes[i].axis('off')  # Turn off axis labels and ticks\n",
        "\n",
        "# Adjust layout for better spacing between subplots\n",
        "plt.tight_layout()\n",
        "plt.show()"
      ],
      "metadata": {
        "colab": {
          "base_uri": "https://localhost:8080/",
          "height": 1000
        },
        "id": "YK_DrUF6UQA7",
        "outputId": "c981417a-c409-414c-a981-8d64ff4349c8"
      },
      "execution_count": 4,
      "outputs": [
        {
          "output_type": "display_data",
          "data": {
            "text/plain": [
              "<Figure size 1000x1000 with 16 Axes>"
            ],
            "image/png": "[encoded data removed]"
          },
          "metadata": {}
        }
      ]
    },
    {
      "cell_type": "markdown",
      "metadata": {
        "id": "k1Evqx0S22r_"
      },
      "source": [
        "Use `tf.data` to batch and shuffle the dataset:"
      ]
    },
    {
      "cell_type": "code",
      "execution_count": 5,
      "metadata": {
        "id": "8Iu_quO024c2"
      },
      "outputs": [],
      "source": [
        "# Create a TensorFlow Dataset for training data, shuffle and batch it\n",
        "train_ds = tf.data.Dataset.from_tensor_slices((x_train, y_train))  # Convert training data to a Dataset\n",
        "train_ds = train_ds.shuffle(10000).batch(32)  # Shuffle with a buffer size of 10,000 and batch into groups of 32\n",
        "\n",
        "# Create a TensorFlow Dataset for testing data and batch it\n",
        "test_ds = tf.data.Dataset.from_tensor_slices((x_test, y_test)).batch(32)  # Batch test data into groups of 32\n",
        "\n",
        "# Summary:\n",
        "# - `train_ds`: Shuffled and batched training dataset for efficient model training.\n",
        "# - `test_ds`: Batches test data for evaluation without shuffling.\n"
      ]
    },
    {
      "cell_type": "markdown",
      "metadata": {
        "id": "BPZ68wASog_I"
      },
      "source": [
        "Build the `tf.keras` model using the Keras [model subclassing API](https://www.tensorflow.org/guide/keras/custom_layers_and_models):"
      ]
    },
    {
      "cell_type": "code",
      "execution_count": 6,
      "metadata": {
        "id": "h3IKyzTCDNGo"
      },
      "outputs": [],
      "source": [
        "# Define input shape\n",
        "input_shape = (28, 28, 1)\n",
        "\n",
        "# Define input layer\n",
        "input_layer = Input(shape=input_shape)\n",
        "\n",
        "# Convolutional layer with activation\n",
        "conv1 = Conv2D(32, 3, activation='relu')(input_layer)\n",
        "drop1 = Dropout(0.75)(conv1)\n",
        "\n",
        "# Flatten layer\n",
        "flatten = Flatten()(drop1)\n",
        "\n",
        "# Dense output layer with softmax activation\n",
        "output = Dense(10, activation='softmax')(flatten)\n",
        "\n",
        "# Create the model\n",
        "model = Model(inputs=input_layer, outputs=output)"
      ]
    },
    {
      "cell_type": "markdown",
      "metadata": {
        "id": "uGih-c2LgbJu"
      },
      "source": [
        "Choose an optimizer and loss function for training:"
      ]
    },
    {
      "cell_type": "code",
      "execution_count": 7,
      "metadata": {
        "id": "u48C9WQ774n4"
      },
      "outputs": [],
      "source": [
        "# Define the loss function for the model\n",
        "# CategoricalCrossentropy is used for multi-class classification problems where labels are one-hot encoded\n",
        "loss_object = tf.keras.losses.CategoricalCrossentropy()\n",
        "\n",
        "# Define the optimizer for training the model\n",
        "# Adam is an adaptive optimization algorithm that combines the benefits of RMSProp and SGD\n",
        "optimizer = tf.keras.optimizers.Adam()\n"
      ]
    },
    {
      "cell_type": "markdown",
      "metadata": {
        "id": "JB6A1vcigsIe"
      },
      "source": [
        "Select metrics to measure the loss and the accuracy of the model. These metrics accumulate the values over epochs and then print the overall result."
      ]
    },
    {
      "cell_type": "code",
      "execution_count": 8,
      "metadata": {
        "id": "N0MqHFb4F_qn"
      },
      "outputs": [],
      "source": [
        "# Metric to track the average training loss\n",
        "train_loss = tf.keras.metrics.Mean(name='train_loss')\n",
        "\n",
        "# Metric to track the training accuracy (for one-hot encoded labels)\n",
        "train_accuracy = tf.keras.metrics.CategoricalAccuracy(name='train_accuracy')\n",
        "\n",
        "# Metric to track the average testing loss\n",
        "test_loss = tf.keras.metrics.Mean(name='test_loss')\n",
        "\n",
        "# Metric to track the testing accuracy (for one-hot encoded labels)\n",
        "test_accuracy = tf.keras.metrics.CategoricalAccuracy(name='test_accuracy')\n"
      ]
    },
    {
      "cell_type": "markdown",
      "metadata": {
        "id": "ix4mEL65on-w"
      },
      "source": [
        "Use `tf.GradientTape` to train the model:"
      ]
    },
    {
      "cell_type": "code",
      "execution_count": 9,
      "metadata": {
        "id": "OZACiVqA8KQV"
      },
      "outputs": [],
      "source": [
        "# Define a single training step as a TensorFlow function for performance optimization\n",
        "@tf.function\n",
        "def train_step(images, labels):\n",
        "    # Record operations for automatic differentiation\n",
        "    with tf.GradientTape() as tape:\n",
        "        # Forward pass through the model\n",
        "        # Set training=True to ensure layers like Dropout behave correctly during training\n",
        "        predictions = model(images, training=True)\n",
        "        # Compute the loss between predictions and true labels\n",
        "        loss = loss_object(labels, predictions)\n",
        "\n",
        "    # Compute gradients of the loss with respect to the model's trainable variables\n",
        "    gradients = tape.gradient(loss, model.trainable_variables)\n",
        "    # Apply gradients to update the model parameters using the optimizer\n",
        "    optimizer.apply_gradients(zip(gradients, model.trainable_variables))\n",
        "\n",
        "    # Update training metrics\n",
        "    train_loss(loss)  # Track the average training loss\n",
        "    train_accuracy(labels, predictions)  # Track the training accuracy\n"
      ]
    },
    {
      "cell_type": "markdown",
      "metadata": {
        "id": "Z8YT7UmFgpjV"
      },
      "source": [
        "Test the model:"
      ]
    },
    {
      "cell_type": "code",
      "execution_count": 13,
      "metadata": {
        "id": "xIKdEzHAJGt7"
      },
      "outputs": [],
      "source": [
        "# Define a single testing step as a TensorFlow function for performance optimization\n",
        "@tf.function\n",
        "def test_step(images, labels):\n",
        "    # Perform a forward pass through the model in inference mode\n",
        "    # Set training=False to ensure layers like Dropout behave correctly during inference\n",
        "    predictions = model(images, training=False)\n",
        "    # Compute the loss between predictions and true labels\n",
        "    t_loss = loss_object(labels, predictions)\n",
        "\n",
        "    # Update testing metrics\n",
        "    test_loss(t_loss)  # Track the average testing loss\n",
        "    test_accuracy(labels, predictions)  # Track the testing accuracy\n"
      ]
    },
    {
      "cell_type": "code",
      "execution_count": 14,
      "metadata": {
        "id": "i-2pkctU_Ci7",
        "colab": {
          "base_uri": "https://localhost:8080/"
        },
        "outputId": "7ae2b7c8-1c3a-41c6-8f5d-c7110bd68850"
      },
      "outputs": [
        {
          "output_type": "stream",
          "name": "stdout",
          "text": [
            "Epoch 1, Loss: 0.2546965777873993, Accuracy: 92.49333190917969, Test Loss: 0.10394839197397232, Test Accuracy: 96.93000030517578\n",
            "Epoch 2, Loss: 0.13459564745426178, Accuracy: 95.88833618164062, Test Loss: 0.08040580153465271, Test Accuracy: 97.53999328613281\n",
            "Epoch 3, Loss: 0.11397576332092285, Accuracy: 96.42166137695312, Test Loss: 0.07143037021160126, Test Accuracy: 97.77999877929688\n",
            "Epoch 4, Loss: 0.10040494799613953, Accuracy: 96.85833740234375, Test Loss: 0.06717890501022339, Test Accuracy: 97.86000061035156\n",
            "Epoch 5, Loss: 0.09127891808748245, Accuracy: 97.09666442871094, Test Loss: 0.06344352662563324, Test Accuracy: 98.05999755859375\n"
          ]
        }
      ],
      "source": [
        "# Define the number of epochs (full passes through the entire dataset during training)\n",
        "EPOCHS = 5\n",
        "\n",
        "# Explanation of an epoch:\n",
        "# An epoch is one complete iteration where the model processes all training data once.\n",
        "# During each epoch, the model updates its weights by learning from the data.\n",
        "\n",
        "# Loop over the number of epochs\n",
        "for epoch in range(EPOCHS):\n",
        "    # Reset metrics at the start of each epoch to calculate fresh statistics\n",
        "    train_loss.reset_state()  # Reset accumulated training loss\n",
        "    train_accuracy.reset_state()  # Reset accumulated training accuracy\n",
        "    test_loss.reset_state()  # Reset accumulated test loss\n",
        "    test_accuracy.reset_state()  # Reset accumulated test accuracy\n",
        "\n",
        "    # Training loop: iterate over all batches in the training dataset\n",
        "    for images, labels in train_ds:\n",
        "        train_step(images, labels)  # Perform a training step for the current batch\n",
        "\n",
        "    # Testing loop: iterate over all batches in the testing dataset\n",
        "    for test_images, test_labels in test_ds:\n",
        "        test_step(test_images, test_labels)  # Perform a test step for the current batch\n",
        "\n",
        "    # Print the results for the current epoch, including training and testing performance\n",
        "    print(\n",
        "        f'Epoch {epoch + 1}, '\n",
        "        f'Loss: {train_loss.result()}, '  # Average training loss for the epoch\n",
        "        f'Accuracy: {train_accuracy.result() * 100}, '  # Training accuracy as a percentage\n",
        "        f'Test Loss: {test_loss.result()}, '  # Average testing loss for the epoch\n",
        "        f'Test Accuracy: {test_accuracy.result() * 100}'  # Testing accuracy as a percentage\n",
        "    )\n",
        "\n"
      ]
    },
    {
      "cell_type": "markdown",
      "metadata": {
        "id": "T4JfEh7kvx6m"
      },
      "source": [
        "The image classifier is now trained to ~98% accuracy on this dataset."
      ]
    },
    {
      "cell_type": "markdown",
      "source": [
        "#Interpretability"
      ],
      "metadata": {
        "id": "74luQGuoosU0"
      }
    },
    {
      "cell_type": "markdown",
      "source": [
        "###Imports"
      ],
      "metadata": {
        "id": "6NdQaq7kopjh"
      }
    },
    {
      "cell_type": "code",
      "source": [
        "!pip install shap"
      ],
      "metadata": {
        "colab": {
          "base_uri": "https://localhost:8080/"
        },
        "id": "sO3x27elodC3",
        "outputId": "29026fcb-2520-49ff-ed82-09dc1851b9a4"
      },
      "execution_count": 15,
      "outputs": [
        {
          "output_type": "stream",
          "name": "stdout",
          "text": [
            "Requirement already satisfied: shap in /usr/local/lib/python3.10/dist-packages (0.46.0)\n",
            "Requirement already satisfied: numpy in /usr/local/lib/python3.10/dist-packages (from shap) (1.26.4)\n",
            "Requirement already satisfied: scipy in /usr/local/lib/python3.10/dist-packages (from shap) (1.13.1)\n",
            "Requirement already satisfied: scikit-learn in /usr/local/lib/python3.10/dist-packages (from shap) (1.5.2)\n",
            "Requirement already satisfied: pandas in /usr/local/lib/python3.10/dist-packages (from shap) (2.2.2)\n",
            "Requirement already satisfied: tqdm>=4.27.0 in /usr/local/lib/python3.10/dist-packages (from shap) (4.66.6)\n",
            "Requirement already satisfied: packaging>20.9 in /usr/local/lib/python3.10/dist-packages (from shap) (24.2)\n",
            "Requirement already satisfied: slicer==0.0.8 in /usr/local/lib/python3.10/dist-packages (from shap) (0.0.8)\n",
            "Requirement already satisfied: numba in /usr/local/lib/python3.10/dist-packages (from shap) (0.60.0)\n",
            "Requirement already satisfied: cloudpickle in /usr/local/lib/python3.10/dist-packages (from shap) (3.1.0)\n",
            "Requirement already satisfied: llvmlite<0.44,>=0.43.0dev0 in /usr/local/lib/python3.10/dist-packages (from numba->shap) (0.43.0)\n",
            "Requirement already satisfied: python-dateutil>=2.8.2 in /usr/local/lib/python3.10/dist-packages (from pandas->shap) (2.8.2)\n",
            "Requirement already satisfied: pytz>=2020.1 in /usr/local/lib/python3.10/dist-packages (from pandas->shap) (2024.2)\n",
            "Requirement already satisfied: tzdata>=2022.7 in /usr/local/lib/python3.10/dist-packages (from pandas->shap) (2024.2)\n",
            "Requirement already satisfied: joblib>=1.2.0 in /usr/local/lib/python3.10/dist-packages (from scikit-learn->shap) (1.4.2)\n",
            "Requirement already satisfied: threadpoolctl>=3.1.0 in /usr/local/lib/python3.10/dist-packages (from scikit-learn->shap) (3.5.0)\n",
            "Requirement already satisfied: six>=1.5 in /usr/local/lib/python3.10/dist-packages (from python-dateutil>=2.8.2->pandas->shap) (1.16.0)\n"
          ]
        }
      ]
    },
    {
      "cell_type": "code",
      "source": [
        "import shap\n",
        "\n",
        "import keras"
      ],
      "metadata": {
        "id": "rgVDNLKeLVry"
      },
      "execution_count": 16,
      "outputs": []
    },
    {
      "cell_type": "markdown",
      "source": [
        "##SHAP"
      ],
      "metadata": {
        "id": "JGvjyBKBok5K"
      }
    },
    {
      "cell_type": "markdown",
      "source": [
        "Condition SHAP on part of the train set"
      ],
      "metadata": {
        "id": "AbmVaaAj-FT_"
      }
    },
    {
      "cell_type": "code",
      "source": [
        "background = x_train[np.random.choice(x_train.shape[0], 1000, replace=False)]\n",
        "\n",
        "shap_expectations = shap.DeepExplainer(model, background)"
      ],
      "metadata": {
        "id": "HAkZ6OM6onuv",
        "colab": {
          "base_uri": "https://localhost:8080/"
        },
        "outputId": "ddf5ada3-bf1c-4ad1-b1a1-ee5371b48248"
      },
      "execution_count": 17,
      "outputs": [
        {
          "output_type": "stream",
          "name": "stderr",
          "text": [
            "/usr/local/lib/python3.10/dist-packages/shap/explainers/_deep/deep_tf.py:99: UserWarning: Your TensorFlow version is newer than 2.4.0 and so graph support has been removed in eager mode and some static graphs may not be supported. See PR #1483 for discussion.\n",
            "  warnings.warn(\"Your TensorFlow version is newer than 2.4.0 and so graph support has been removed in eager mode and some static graphs may not be supported. See PR #1483 for discussion.\")\n"
          ]
        }
      ]
    },
    {
      "cell_type": "markdown",
      "source": [
        "Test it out by asking it to explain the first ten test set values\n",
        "\n",
        "Here, we can see that on the y axis there are 10 different samples as we wanted\n",
        "\n",
        "On the x axis, we can see the ten different classes\n",
        "\n",
        "The pink areas are the positive explanations - why this sample belongs to this class\n",
        "\n",
        "The blue areas indicate pink areas being present elsewhere - negative explanations are a combination of positive explanations for all other classes\n",
        "\n",
        "Note that this image's colours may skew depending on very strong explanations making others look dimmer. You can use the same function to plot individual images or a smaller set of images. This is shown below."
      ],
      "metadata": {
        "id": "hZ6W6G3y-JzN"
      }
    },
    {
      "cell_type": "code",
      "source": [
        "shap_values = shap_expectations.shap_values(x_test[0:10])\n",
        "\n",
        "shap.image_plot(shap_values, x_test[0:10])"
      ],
      "metadata": {
        "colab": {
          "base_uri": "https://localhost:8080/",
          "height": 1000
        },
        "id": "Gc8D1k97th1_",
        "outputId": "0056fb2b-4c42-46a5-9d75-3aedf65cefa3"
      },
      "execution_count": 18,
      "outputs": [
        {
          "output_type": "display_data",
          "data": {
            "text/plain": [
              "<Figure size 600x2750 with 21 Axes>"
            ],
            "image/png": "[encoded data removed]"
          },
          "metadata": {}
        }
      ]
    },
    {
      "cell_type": "code",
      "source": [
        "#Individual Plot\n",
        "shap.image_plot(shap_values[0][0], x_test[wanted_wrongs[0]])"
      ],
      "metadata": {
        "id": "4_5rk47W_eBf",
        "outputId": "1d083e51-743d-41ba-9e7d-6b3523cc2f67",
        "colab": {
          "base_uri": "https://localhost:8080/",
          "height": 211
        }
      },
      "execution_count": 21,
      "outputs": [
        {
          "output_type": "error",
          "ename": "NameError",
          "evalue": "name 'y_pred' is not defined",
          "traceback": [
            "\u001b[0;31m---------------------------------------------------------------------------\u001b[0m",
            "\u001b[0;31mNameError\u001b[0m                                 Traceback (most recent call last)",
            "\u001b[0;32m<ipython-input-21-fe7a91db9b62>\u001b[0m in \u001b[0;36m<cell line: 2>\u001b[0;34m()\u001b[0m\n\u001b[1;32m      1\u001b[0m \u001b[0;31m# Assuming y_test contains true labels and y_pred contains predicted labels\u001b[0m\u001b[0;34m\u001b[0m\u001b[0;34m\u001b[0m\u001b[0m\n\u001b[0;32m----> 2\u001b[0;31m \u001b[0mwrong_indices\u001b[0m \u001b[0;34m=\u001b[0m \u001b[0mnp\u001b[0m\u001b[0;34m.\u001b[0m\u001b[0mwhere\u001b[0m\u001b[0;34m(\u001b[0m\u001b[0my_test\u001b[0m \u001b[0;34m!=\u001b[0m \u001b[0my_pred\u001b[0m\u001b[0;34m)\u001b[0m\u001b[0;34m[\u001b[0m\u001b[0;36m0\u001b[0m\u001b[0;34m]\u001b[0m\u001b[0;34m\u001b[0m\u001b[0;34m\u001b[0m\u001b[0m\n\u001b[0m\u001b[1;32m      3\u001b[0m \u001b[0mwanted_wrongs\u001b[0m \u001b[0;34m=\u001b[0m \u001b[0mwrong_indices\u001b[0m\u001b[0;34m[\u001b[0m\u001b[0;34m:\u001b[0m\u001b[0;36m5\u001b[0m\u001b[0;34m]\u001b[0m  \u001b[0;31m# Get the first 5 incorrect predictions (or as needed)\u001b[0m\u001b[0;34m\u001b[0m\u001b[0;34m\u001b[0m\u001b[0m\n\u001b[1;32m      4\u001b[0m \u001b[0;31m#Individual Plot\u001b[0m\u001b[0;34m\u001b[0m\u001b[0;34m\u001b[0m\u001b[0m\n\u001b[1;32m      5\u001b[0m \u001b[0mshap\u001b[0m\u001b[0;34m.\u001b[0m\u001b[0mimage_plot\u001b[0m\u001b[0;34m(\u001b[0m\u001b[0mshap_values\u001b[0m\u001b[0;34m[\u001b[0m\u001b[0;36m0\u001b[0m\u001b[0;34m]\u001b[0m\u001b[0;34m[\u001b[0m\u001b[0;36m0\u001b[0m\u001b[0;34m]\u001b[0m\u001b[0;34m,\u001b[0m \u001b[0mx_test\u001b[0m\u001b[0;34m[\u001b[0m\u001b[0mwanted_wrongs\u001b[0m\u001b[0;34m[\u001b[0m\u001b[0;36m0\u001b[0m\u001b[0;34m]\u001b[0m\u001b[0;34m]\u001b[0m\u001b[0;34m)\u001b[0m\u001b[0;34m\u001b[0m\u001b[0;34m\u001b[0m\u001b[0m\n",
            "\u001b[0;31mNameError\u001b[0m: name 'y_pred' is not defined"
          ]
        }
      ]
    },
    {
      "cell_type": "markdown",
      "source": [
        "#Exercises"
      ],
      "metadata": {
        "id": "JjDcTJXTRUOI"
      }
    },
    {
      "cell_type": "markdown",
      "source": [
        "###Exc 1:\n"
      ],
      "metadata": {
        "id": "Obq-fzV1RW8F"
      }
    },
    {
      "cell_type": "markdown",
      "source": [
        "We run interpretability on correct and incorrect samples to check different facets of the model.\n",
        "\n",
        "Find and separate the correct answers from the incorrect ones"
      ],
      "metadata": {
        "id": "01B4PIs-f3AZ"
      }
    },
    {
      "cell_type": "code",
      "source": [],
      "metadata": {
        "id": "jOsvwuzaRb78"
      },
      "execution_count": null,
      "outputs": []
    },
    {
      "cell_type": "code",
      "source": [],
      "metadata": {
        "id": "nVxwuwSSRWLW"
      },
      "execution_count": null,
      "outputs": []
    },
    {
      "cell_type": "markdown",
      "source": [
        "Let's find out where most of the wrong predictions and correct predictions are\n",
        "\n",
        "Display the distribution of numbers in the corrects and wrongs"
      ],
      "metadata": {
        "id": "R5XJFE1XftyL"
      }
    },
    {
      "cell_type": "code",
      "source": [],
      "metadata": {
        "id": "W5uWdVFYfx6D"
      },
      "execution_count": null,
      "outputs": []
    },
    {
      "cell_type": "code",
      "source": [],
      "metadata": {
        "id": "l6kX5T1egraR"
      },
      "execution_count": null,
      "outputs": []
    },
    {
      "cell_type": "markdown",
      "source": [
        "I expect some confusion between 1s and 7s because I used to have a lot of trouble with this as a kid, but surprisingly the model doesn't - let's check to see that it's doing ok"
      ],
      "metadata": {
        "id": "SyGg9ghi7ClW"
      }
    },
    {
      "cell_type": "markdown",
      "source": [
        "Use SHAP to visualise 10 correctly predicted 7s' explanations"
      ],
      "metadata": {
        "id": "5zfDZ4i18jkJ"
      }
    },
    {
      "cell_type": "code",
      "source": [],
      "metadata": {
        "id": "fm0v56Hn7GSZ"
      },
      "execution_count": null,
      "outputs": []
    },
    {
      "cell_type": "markdown",
      "source": [
        "Can you see if the distinguishing feature of 7s have been correctly selected here?"
      ],
      "metadata": {
        "id": "dmxbV4Ht9iYQ"
      }
    },
    {
      "cell_type": "markdown",
      "source": [
        "Use SHAP to visualise 10 correctly predicted 1s' explanations"
      ],
      "metadata": {
        "id": "UZfRKsB98nDt"
      }
    },
    {
      "cell_type": "code",
      "source": [],
      "metadata": {
        "id": "kpuT0zXR81MF"
      },
      "execution_count": null,
      "outputs": []
    },
    {
      "cell_type": "markdown",
      "source": [
        "What seems to be the distinguishing feature of the 1s as shown here?"
      ],
      "metadata": {
        "id": "Jbo5X7iZ9gfJ"
      }
    },
    {
      "cell_type": "markdown",
      "source": [
        "The correct ones have a roughly even distribution but the incorrect predictions have a much more skewed distribution - what analysis can you perform here by looking at these?\n",
        "\n",
        "What numbers seem like they're getting confused?\n",
        "\n",
        "Let's see if there's any significant mispredictions happening"
      ],
      "metadata": {
        "id": "tQEpAxWMgwBj"
      }
    },
    {
      "cell_type": "markdown",
      "source": [
        "Plot the predicted numbers against the true labels to see if there are any systematic errors occuring here"
      ],
      "metadata": {
        "id": "8jQDf7s4hPNV"
      }
    },
    {
      "cell_type": "code",
      "source": [],
      "metadata": {
        "id": "0dEyl6gJhiSK"
      },
      "execution_count": null,
      "outputs": []
    },
    {
      "cell_type": "markdown",
      "source": [
        "In my model, 9s get misrepresented as 4s the most. It's an intuitive error, but let's see what the model is seeing\n",
        "\n",
        "Use SHAP to visualise the errors on 10 of these numbers\n",
        "\n",
        "Note - you may need to individually plot these to visualise the colours properly (select which picture you want in the shap values array and then in the x_test)"
      ],
      "metadata": {
        "id": "KmLdLSDdjQ1C"
      }
    },
    {
      "cell_type": "code",
      "source": [],
      "metadata": {
        "id": "BubWWR0gjhGP"
      },
      "execution_count": null,
      "outputs": []
    },
    {
      "cell_type": "markdown",
      "source": [
        "We need to find out if there are any alternative ways of writing numbers that the model struggles with - what numbers and corresponding styles would you recommend augmenting the dataset with? You can work with the person next to you to speed this up"
      ],
      "metadata": {
        "id": "jwBsYehD3n0c"
      }
    },
    {
      "cell_type": "markdown",
      "source": [
        "###Exc 2:\n",
        "\n",
        "Visualise filters"
      ],
      "metadata": {
        "id": "cXiHGF_NXk8o"
      }
    },
    {
      "cell_type": "markdown",
      "source": [
        "Preamble"
      ],
      "metadata": {
        "id": "OIpGgKbvYUy3"
      }
    },
    {
      "cell_type": "code",
      "source": [
        "import keras\n",
        "\n",
        "def compute_loss(input_image, filter_index):\n",
        "    activation = feature_extractor(input_image)\n",
        "    # We avoid border artifacts by only involving non-border pixels in the loss.\n",
        "    filter_activation = activation[:, 2:-2, 2:-2, filter_index]\n",
        "    return tf.reduce_mean(filter_activation)\n",
        "\n",
        "@tf.function\n",
        "def gradient_ascent_step(img, filter_index, learning_rate):\n",
        "    with tf.GradientTape() as tape:\n",
        "        tape.watch(img)\n",
        "        loss = compute_loss(img, filter_index)\n",
        "    # Compute gradients.\n",
        "    grads = tape.gradient(loss, img)\n",
        "    # Normalize gradients.\n",
        "    grads = tf.math.l2_normalize(grads)\n",
        "    img += learning_rate * grads\n",
        "    return loss, img"
      ],
      "metadata": {
        "id": "9KeoXmttXmu_"
      },
      "execution_count": null,
      "outputs": []
    },
    {
      "cell_type": "markdown",
      "source": [
        "Find the name of the convolutional layer of the model we want to visualise"
      ],
      "metadata": {
        "id": "QCArloCbYYJ-"
      }
    },
    {
      "cell_type": "code",
      "source": [],
      "metadata": {
        "id": "kz31_SqmYS1y"
      },
      "execution_count": null,
      "outputs": []
    },
    {
      "cell_type": "code",
      "source": [
        "# Our target layer: we will visualize the filters from this layer.\n",
        "layer_name = \"______\"\n",
        "\n",
        "layer = model.get_layer(name=layer_name)\n",
        "feature_extractor = keras.Model(inputs=model.inputs, outputs=layer.output)"
      ],
      "metadata": {
        "id": "AzXU3PlqYXqz"
      },
      "execution_count": null,
      "outputs": []
    },
    {
      "cell_type": "markdown",
      "source": [
        "We need to construct an image to give to the filter visualiser so that it can maximises the filter activation -\n",
        "\n",
        "Write a function that makes a random image with depth and height that can be passed to the filter visualiser - remember, the model has to be able to process this image"
      ],
      "metadata": {
        "id": "PB_4HT7WZCjW"
      }
    },
    {
      "cell_type": "code",
      "source": [
        "def initialize_image(img_width, img_height, channels = 1):\n",
        "    # We start from a gray image with some random noise\n",
        "\n",
        "\n",
        "\n",
        "    return img"
      ],
      "metadata": {
        "id": "nZKQZ6ieZatJ"
      },
      "execution_count": null,
      "outputs": []
    },
    {
      "cell_type": "markdown",
      "source": [
        "There needs to be some kind of hyperparameter tuning to ensure that the filters are coming out right - tune the iterations and the learning rate"
      ],
      "metadata": {
        "id": "Ed4jbgUZY5yN"
      }
    },
    {
      "cell_type": "code",
      "source": [
        "#Hyperparameters\n",
        "iterations = ???\n",
        "learning_rate = ???\n",
        "\n",
        "#Which filter do you want to visualise?\n",
        "filter_index = ???\n",
        "\n",
        "img = initialize_image(28,28)\n",
        "for iteration in range(iterations):\n",
        "    loss, img = gradient_ascent_step(img, filter_index, learning_rate)\n",
        "\n",
        "\n",
        "plt.imshow(img[0], cmap='Greys')\n",
        "print(loss)"
      ],
      "metadata": {
        "id": "ppSbse45Yodg"
      },
      "execution_count": null,
      "outputs": []
    },
    {
      "cell_type": "markdown",
      "source": [
        "Great, now wrap it up into a function!"
      ],
      "metadata": {
        "id": "ikjphqAuaC66"
      }
    },
    {
      "cell_type": "code",
      "source": [
        "def visualize_filter(filter_index, iterations=30, learning_rate=10):\n",
        "    # We run gradient ascent for 20 steps\n",
        "    img = initialize_image(28,28)\n",
        "\n",
        "\n",
        "\n",
        "    return loss, img"
      ],
      "metadata": {
        "id": "mqH-5t-gaFUQ"
      },
      "execution_count": null,
      "outputs": []
    },
    {
      "cell_type": "markdown",
      "source": [
        "Can you write a script that visualises all the filters in the neural network?"
      ],
      "metadata": {
        "id": "7SkYjuPpZy-N"
      }
    },
    {
      "cell_type": "code",
      "source": [],
      "metadata": {
        "id": "OMu3biZtZ7KG"
      },
      "execution_count": null,
      "outputs": []
    },
    {
      "cell_type": "markdown",
      "source": [
        "What do the filters look for in the images? Discuss with the person sitting next to you"
      ],
      "metadata": {
        "id": "OCv4Es8GCCQw"
      }
    }
  ],
  "metadata": {
    "accelerator": "GPU",
    "colab": {
      "provenance": [],
      "collapsed_sections": [
        "6NdQaq7kopjh"
      ],
      "gpuType": "T4",
      "include_colab_link": true
    },
    "kernelspec": {
      "display_name": "Python 3",
      "name": "python3"
    }
  },
  "nbformat": 4,
  "nbformat_minor": 0
}